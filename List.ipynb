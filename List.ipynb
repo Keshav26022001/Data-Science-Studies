{
 "cells": [
  {
   "cell_type": "raw",
   "id": "ebffc4ba-0e42-4a6a-84c3-678726e91bee",
   "metadata": {},
   "source": [
    "To create list in python the square brackets [] are used. \n",
    "In python list is used to store multiple values in a single variable, which are accesable through the proper command.\n",
    "List can be used to store the various data types.eg.-int,string,boolean etc.\n",
    "List can be have mixed data type."
   ]
  },
  {
   "cell_type": "markdown",
   "id": "87b81dc2-955a-4b63-913e-5ea4f75c7700",
   "metadata": {},
   "source": [
    "# List Creation"
   ]
  },
  {
   "cell_type": "code",
   "execution_count": 2,
   "id": "b0a00134-9f68-4c1e-bb05-40400cba51d8",
   "metadata": {},
   "outputs": [
    {
     "data": {
      "text/plain": [
       "[26, 11, 25, 63, 85]"
      ]
     },
     "execution_count": 2,
     "metadata": {},
     "output_type": "execute_result"
    }
   ],
   "source": [
    "k=[26,11,25,63,85]\n",
    "k"
   ]
  },
  {
   "cell_type": "code",
   "execution_count": 3,
   "id": "b3f5a5ff-ee8e-45e6-bc76-ccfa97dc092b",
   "metadata": {},
   "outputs": [
    {
     "data": {
      "text/plain": [
       "['keshav', 'Mahesh', 'Joshi']"
      ]
     },
     "execution_count": 3,
     "metadata": {},
     "output_type": "execute_result"
    }
   ],
   "source": [
    "j=['keshav','Mahesh','Joshi']\n",
    "j"
   ]
  },
  {
   "cell_type": "code",
   "execution_count": 4,
   "id": "47965496-5efe-4f2d-b305-ec0ce1c5b97c",
   "metadata": {},
   "outputs": [
    {
     "data": {
      "text/plain": [
       "['keshav', 26, 'feb', 2001]"
      ]
     },
     "execution_count": 4,
     "metadata": {},
     "output_type": "execute_result"
    }
   ],
   "source": [
    "s=['keshav',26,'feb',2001]\n",
    "s"
   ]
  },
  {
   "cell_type": "markdown",
   "id": "6352ceb6-8db1-492d-925c-5bed45eba29d",
   "metadata": {},
   "source": [
    "# Nasted list"
   ]
  },
  {
   "cell_type": "raw",
   "id": "18cf0c7c-9900-49c2-be25-58450a798d82",
   "metadata": {},
   "source": [
    "Nasted list means list of list."
   ]
  },
  {
   "cell_type": "code",
   "execution_count": 6,
   "id": "f3cd1216-1d7b-4764-9fc1-33e4f4bdaf93",
   "metadata": {},
   "outputs": [
    {
     "data": {
      "text/plain": [
       "[25, 56, 75, ['Pruthvi', 'Chavan']]"
      ]
     },
     "execution_count": 6,
     "metadata": {},
     "output_type": "execute_result"
    }
   ],
   "source": [
    "p=[25,56,75,['Pruthvi','Chavan']]\n",
    "p"
   ]
  },
  {
   "cell_type": "code",
   "execution_count": 7,
   "id": "df7d6c34-f4ba-407f-819f-e69df655a14b",
   "metadata": {},
   "outputs": [
    {
     "data": {
      "text/plain": [
       "list"
      ]
     },
     "execution_count": 7,
     "metadata": {},
     "output_type": "execute_result"
    }
   ],
   "source": [
    "type(p)"
   ]
  },
  {
   "cell_type": "markdown",
   "id": "0171fb61-6f93-4946-a7b8-722b406ac776",
   "metadata": {},
   "source": [
    "# List Methods"
   ]
  },
  {
   "cell_type": "markdown",
   "id": "d23b5da0-d4d5-4fe9-a533-b4231d810645",
   "metadata": {},
   "source": [
    "## 1. Append\n",
    "the append method adds the new element as last element of the given list\n",
    "if append is used to add list to another list then the list which you want to add  becomes the single element of that list."
   ]
  },
  {
   "cell_type": "code",
   "execution_count": 10,
   "id": "641bc69b-49e8-41cd-bde6-d81921afc46a",
   "metadata": {},
   "outputs": [
    {
     "data": {
      "text/plain": [
       "['keshav', 'Mahesh', 'Joshi', 26, 'Feb', 2001]"
      ]
     },
     "execution_count": 10,
     "metadata": {},
     "output_type": "execute_result"
    }
   ],
   "source": [
    "list_1=['keshav','Mahesh','Joshi',26,'Feb',2001]\n",
    "list_1"
   ]
  },
  {
   "cell_type": "code",
   "execution_count": 11,
   "id": "bb2c0899-5fb1-496f-8809-5e3209fcf19d",
   "metadata": {},
   "outputs": [
    {
     "data": {
      "text/plain": [
       "['Sweety', 'Govind', 'Dhas', 11, 'Nov', 2000]"
      ]
     },
     "execution_count": 11,
     "metadata": {},
     "output_type": "execute_result"
    }
   ],
   "source": [
    "list_2=['Sweety','Govind','Dhas',11,'Nov',2000]\n",
    "list_2"
   ]
  },
  {
   "cell_type": "code",
   "execution_count": 12,
   "id": "0224ed15-77b3-4983-98cf-353a71651f6c",
   "metadata": {},
   "outputs": [],
   "source": [
    "list_1.append('boy') # which adds the 'boy' at the end of list_1."
   ]
  },
  {
   "cell_type": "code",
   "execution_count": 13,
   "id": "053369bf-8f07-4ddb-b1e2-44160afcaf1b",
   "metadata": {},
   "outputs": [
    {
     "data": {
      "text/plain": [
       "['keshav', 'Mahesh', 'Joshi', 26, 'Feb', 2001, 'boy']"
      ]
     },
     "execution_count": 13,
     "metadata": {},
     "output_type": "execute_result"
    }
   ],
   "source": [
    "list_1"
   ]
  },
  {
   "cell_type": "code",
   "execution_count": 14,
   "id": "84e1a20d-8fa2-4430-98dd-37b125c1aebf",
   "metadata": {},
   "outputs": [
    {
     "data": {
      "text/plain": [
       "['Sweety', 'Govind', 'Dhas', 11, 'Nov', 2000, 'girl']"
      ]
     },
     "execution_count": 14,
     "metadata": {},
     "output_type": "execute_result"
    }
   ],
   "source": [
    "list_2.append('girl') # which adds the 'girl' at the end of list_2\n",
    "list_2"
   ]
  },
  {
   "cell_type": "code",
   "execution_count": 15,
   "id": "ba1f6a76-6e2c-42ed-b174-334417ee9779",
   "metadata": {},
   "outputs": [
    {
     "data": {
      "text/plain": [
       "['keshav',\n",
       " 'Mahesh',\n",
       " 'Joshi',\n",
       " 26,\n",
       " 'Feb',\n",
       " 2001,\n",
       " 'boy',\n",
       " ['Sweety', 'Govind', 'Dhas', 11, 'Nov', 2000, 'girl']]"
      ]
     },
     "execution_count": 15,
     "metadata": {},
     "output_type": "execute_result"
    }
   ],
   "source": [
    "# to add the list_2 as element to the list_1 \n",
    "list_1.append(list_2)\n",
    "list_1"
   ]
  },
  {
   "cell_type": "raw",
   "id": "45043797-f9a2-4b62-9526-f9b0d3004a9d",
   "metadata": {},
   "source": [
    "\n",
    "i.e list_2 is now the single element of list_1\n",
    " append is the method so whenever append is used  for any list the respective changes are \n",
    " made in the original list. i.e when we call for original list the changed / modified list \n",
    " will appears in the output.\n"
   ]
  },
  {
   "cell_type": "code",
   "execution_count": 16,
   "id": "42336c08-aa00-4c12-a921-71ddbe790d87",
   "metadata": {},
   "outputs": [
    {
     "data": {
      "text/plain": [
       "['q', 'w', 'e', 'r', 't', 'y', 'u']"
      ]
     },
     "execution_count": 16,
     "metadata": {},
     "output_type": "execute_result"
    }
   ],
   "source": [
    "list_3=['q','w','e','r','t','y']\n",
    "list_3.append('u')\n",
    "list_3"
   ]
  },
  {
   "cell_type": "code",
   "execution_count": 17,
   "id": "42c9d282-5399-4ebe-ba61-72fdb3c1695e",
   "metadata": {},
   "outputs": [
    {
     "data": {
      "text/plain": [
       "['a', 's', 'd', 'f', ['q', 'w', 'e', 'r', 't', 'y', 'u']]"
      ]
     },
     "execution_count": 17,
     "metadata": {},
     "output_type": "execute_result"
    }
   ],
   "source": [
    "list_4=['a','s','d','f']\n",
    "list_4\n",
    "list_4.append(list_3)\n",
    "list_4"
   ]
  },
  {
   "cell_type": "markdown",
   "id": "3380d39c-acc2-4e0c-8784-b9813e997182",
   "metadata": {},
   "source": [
    "# 2.Extend\n",
    "extend also adds the new element like append but the difference is that extend method expands the given list. \n",
    "if extend is used to add one list to another it adds the all elements of second list to the first list. i.e all elements of the of the second list are now elements of the first.\n",
    "that mens it does not add the whole list as a single element of the given list.\n"
   ]
  },
  {
   "cell_type": "code",
   "execution_count": 19,
   "id": "9dc72c3b-7af2-4d0c-ab16-89c4598ec59f",
   "metadata": {},
   "outputs": [
    {
     "data": {
      "text/plain": [
       "[26, 2, 2001, 'K', 'e', 's', 'h', 'a', 'v']"
      ]
     },
     "execution_count": 19,
     "metadata": {},
     "output_type": "execute_result"
    }
   ],
   "source": [
    "list_5=[26,2,2001]\n",
    "list_5.extend('Keshav')\n",
    "list_5"
   ]
  },
  {
   "cell_type": "code",
   "execution_count": 20,
   "id": "dce31db3-5e3d-4e6f-8911-bae95b5b14ae",
   "metadata": {},
   "outputs": [
    {
     "data": {
      "text/plain": [
       "[12, 13, 14, 15, 16, 17, 18, 19]"
      ]
     },
     "execution_count": 20,
     "metadata": {},
     "output_type": "execute_result"
    }
   ],
   "source": [
    "list_6=[12,13,14,15]\n",
    "list_7=[16,17,18,19]\n",
    "list_6.extend(list_7)\n",
    "list_6"
   ]
  },
  {
   "cell_type": "markdown",
   "id": "86cff681-27af-419d-93eb-c80698ef9dfc",
   "metadata": {},
   "source": [
    "# Extend list with the non list elements\n",
    "suppose a list is given and we want to add non listed elements like 0,1,2, etc in the list then the following method is used."
   ]
  },
  {
   "cell_type": "code",
   "execution_count": 22,
   "id": "291f799b-6701-4027-bd78-9fbca00f0607",
   "metadata": {},
   "outputs": [
    {
     "data": {
      "text/plain": [
       "[1, 2, 3, 4, 5, 6, 7, 8, 9, 0, 1, 2]"
      ]
     },
     "execution_count": 22,
     "metadata": {},
     "output_type": "execute_result"
    }
   ],
   "source": [
    "a=[1,2,3,4,5,6,7,8,9]\n",
    "a.extend(range(3))# this will add three index starting from zero.\n",
    "a"
   ]
  },
  {
   "cell_type": "code",
   "execution_count": 23,
   "id": "5153311c-f453-4f98-9bdb-27c094f258c7",
   "metadata": {},
   "outputs": [
    {
     "data": {
      "text/plain": [
       "[1, 2, 3, 4, 5, 6, 7, 8, 9, 0, 1, 2]"
      ]
     },
     "execution_count": 23,
     "metadata": {},
     "output_type": "execute_result"
    }
   ],
   "source": [
    "a"
   ]
  },
  {
   "cell_type": "code",
   "execution_count": 24,
   "id": "6c456580-da6c-47db-a082-a26df993ed02",
   "metadata": {},
   "outputs": [
    {
     "ename": "SyntaxError",
     "evalue": "invalid syntax (624496997.py, line 1)",
     "output_type": "error",
     "traceback": [
      "\u001b[1;36m  Cell \u001b[1;32mIn[24], line 1\u001b[1;36m\u001b[0m\n\u001b[1;33m    a.extend(range(2:5))# range function cannot have 2 parameters.\u001b[0m\n\u001b[1;37m                    ^\u001b[0m\n\u001b[1;31mSyntaxError\u001b[0m\u001b[1;31m:\u001b[0m invalid syntax\n"
     ]
    }
   ],
   "source": [
    "a.extend(range(2:5))# range function cannot have 2 parameters.\n",
    "a"
   ]
  },
  {
   "cell_type": "markdown",
   "id": "2bb8be04-e660-4ad5-a87c-6a064a9ca0a2",
   "metadata": {},
   "source": [
    "# Extend list using \"+\" operator"
   ]
  },
  {
   "cell_type": "code",
   "execution_count": 34,
   "id": "e0a6e15d-51b2-4e32-89b2-fecea773158a",
   "metadata": {},
   "outputs": [
    {
     "data": {
      "text/plain": [
       "['keshav', 'mahesh', 'joshi']"
      ]
     },
     "execution_count": 34,
     "metadata": {},
     "output_type": "execute_result"
    }
   ],
   "source": [
    "k=['keshav']\n",
    "j=['mahesh','joshi']\n",
    "m=k+j\n",
    "m"
   ]
  },
  {
   "cell_type": "code",
   "execution_count": 36,
   "id": "3f7719ff-057c-4ba2-bd21-434a7b535fb1",
   "metadata": {},
   "outputs": [
    {
     "ename": "TypeError",
     "evalue": "unsupported operand type(s) for -: 'list' and 'list'",
     "output_type": "error",
     "traceback": [
      "\u001b[1;31m---------------------------------------------------------------------------\u001b[0m",
      "\u001b[1;31mTypeError\u001b[0m                                 Traceback (most recent call last)",
      "Cell \u001b[1;32mIn[36], line 1\u001b[0m\n\u001b[1;32m----> 1\u001b[0m l\u001b[38;5;241m=\u001b[39mm\u001b[38;5;241m-\u001b[39mk \u001b[38;5;66;03m# '-' operator is not supported in the list\u001b[39;00m\n\u001b[0;32m      2\u001b[0m l\n",
      "\u001b[1;31mTypeError\u001b[0m: unsupported operand type(s) for -: 'list' and 'list'"
     ]
    }
   ],
   "source": [
    "l=m-k # '-' operator is not supported in the list\n",
    "l"
   ]
  },
  {
   "cell_type": "markdown",
   "id": "416583dd-62c5-4ba9-81cc-62c3c0b1ec0a",
   "metadata": {},
   "source": [
    "# Index\n",
    "gives the element in the list at the given index or at a given position."
   ]
  },
  {
   "cell_type": "code",
   "execution_count": 39,
   "id": "a75dafb9-8d0b-4718-9b9d-0f7dcf1b0c72",
   "metadata": {},
   "outputs": [
    {
     "data": {
      "text/plain": [
       "['khj', 'dadsxzc', 'adsczx', 'wefs', 'oqwk', 'deas', 'wuqids', 'qrw', 'oij']"
      ]
     },
     "execution_count": 39,
     "metadata": {},
     "output_type": "execute_result"
    }
   ],
   "source": [
    "x=['khj','dadsxzc','adsczx','wefs','oqwk','deas','wuqids','qrw','oij']\n",
    "x"
   ]
  },
  {
   "cell_type": "code",
   "execution_count": 41,
   "id": "a81457a4-2219-489a-a4f4-0e5bfe6dacc2",
   "metadata": {},
   "outputs": [
    {
     "data": {
      "text/plain": [
       "'khj'"
      ]
     },
     "execution_count": 41,
     "metadata": {},
     "output_type": "execute_result"
    }
   ],
   "source": [
    "x[0]# gives the first element of the list because the indexing always starts with the zero th\n",
    "#index and in python zero th index means the first postion element."
   ]
  },
  {
   "cell_type": "code",
   "execution_count": 43,
   "id": "307daa6b-8efd-459b-914f-e0682e7499c5",
   "metadata": {},
   "outputs": [
    {
     "ename": "IndexError",
     "evalue": "list index out of range",
     "output_type": "error",
     "traceback": [
      "\u001b[1;31m---------------------------------------------------------------------------\u001b[0m",
      "\u001b[1;31mIndexError\u001b[0m                                Traceback (most recent call last)",
      "Cell \u001b[1;32mIn[43], line 1\u001b[0m\n\u001b[1;32m----> 1\u001b[0m x[\u001b[38;5;241m9\u001b[39m]\n",
      "\u001b[1;31mIndexError\u001b[0m: list index out of range"
     ]
    }
   ],
   "source": [
    "x[9]# here output will show the error that is 'index error' which means somthing is wrong with\n",
    "# the indexing and if we give index which is not exist that high index then it shows the 'list\n",
    "#index out of range'"
   ]
  },
  {
   "cell_type": "code",
   "execution_count": 45,
   "id": "b10300bb-a75d-42a6-98c8-1e104402cb7c",
   "metadata": {},
   "outputs": [
    {
     "data": {
      "text/plain": [
       "9"
      ]
     },
     "execution_count": 45,
     "metadata": {},
     "output_type": "execute_result"
    }
   ],
   "source": [
    "# if we want to find length of a given list \n",
    "len(x)"
   ]
  },
  {
   "cell_type": "raw",
   "id": "b449e56e-c806-473d-99e4-d8d2a6dc8543",
   "metadata": {},
   "source": [
    "in above example the length of a list is 9 and we have given an input as x[9] that means the 10th element in the list which doesn't exist therefore the index error occurs."
   ]
  },
  {
   "cell_type": "code",
   "execution_count": 47,
   "id": "6b8b97ca-13d9-4cd6-a949-1b4bafb0954e",
   "metadata": {},
   "outputs": [
    {
     "data": {
      "text/plain": [
       "['khj', 'dadsxzc', 'adsczx', 'wefs', 'oqwk', 'deas', 'wuqids', 'qrw', 'oij']"
      ]
     },
     "execution_count": 47,
     "metadata": {},
     "output_type": "execute_result"
    }
   ],
   "source": [
    "x"
   ]
  },
  {
   "cell_type": "code",
   "execution_count": 49,
   "id": "46f8a2f0-3599-4ef5-9266-a368006724a7",
   "metadata": {},
   "outputs": [
    {
     "data": {
      "text/plain": [
       "'oij'"
      ]
     },
     "execution_count": 49,
     "metadata": {},
     "output_type": "execute_result"
    }
   ],
   "source": [
    "x[-1]# reverse indexing starts from -1. i.e if we call x[-1] it shows the last element of list."
   ]
  },
  {
   "cell_type": "code",
   "execution_count": 51,
   "id": "32563813-bdea-4946-afa9-d74cdbf58a90",
   "metadata": {},
   "outputs": [
    {
     "data": {
      "text/plain": [
       "'qrw'"
      ]
     },
     "execution_count": 51,
     "metadata": {},
     "output_type": "execute_result"
    }
   ],
   "source": [
    "x[-2]"
   ]
  },
  {
   "cell_type": "code",
   "execution_count": 53,
   "id": "9fe42e4f-1522-4df9-91f6-9c4e8578fdd6",
   "metadata": {},
   "outputs": [
    {
     "data": {
      "text/plain": [
       "'khj'"
      ]
     },
     "execution_count": 53,
     "metadata": {},
     "output_type": "execute_result"
    }
   ],
   "source": [
    "x[-9]"
   ]
  },
  {
   "cell_type": "code",
   "execution_count": 55,
   "id": "9a718691-0a63-417e-8eab-a23f08187e90",
   "metadata": {},
   "outputs": [
    {
     "ename": "IndexError",
     "evalue": "list index out of range",
     "output_type": "error",
     "traceback": [
      "\u001b[1;31m---------------------------------------------------------------------------\u001b[0m",
      "\u001b[1;31mIndexError\u001b[0m                                Traceback (most recent call last)",
      "Cell \u001b[1;32mIn[55], line 1\u001b[0m\n\u001b[1;32m----> 1\u001b[0m x[\u001b[38;5;241m-\u001b[39m\u001b[38;5;241m10\u001b[39m]\n",
      "\u001b[1;31mIndexError\u001b[0m: list index out of range"
     ]
    }
   ],
   "source": [
    "x[-10]# again length of given list is 9 and we used reverse indexing so the max index is -9.\n",
    "# so the above input again shows the 'index error'."
   ]
  },
  {
   "cell_type": "code",
   "execution_count": 57,
   "id": "a2b462d1-79a1-44c7-baab-248492ef43b6",
   "metadata": {},
   "outputs": [],
   "source": [
    "# display the ouput as 'keshav',26,'feb'\n",
    "o=[56,23,85,45,12,452,['keshav',26,'feb',2001]]"
   ]
  },
  {
   "cell_type": "code",
   "execution_count": 59,
   "id": "dd889e75-7cf1-4146-8bbc-faaf528e5d05",
   "metadata": {},
   "outputs": [
    {
     "data": {
      "text/plain": [
       "[56, 23, 85, 45, 12, 452, ['keshav', 26, 'feb', 2001]]"
      ]
     },
     "execution_count": 59,
     "metadata": {},
     "output_type": "execute_result"
    }
   ],
   "source": [
    "o"
   ]
  },
  {
   "cell_type": "code",
   "execution_count": 61,
   "id": "db84c50d-d3c8-419c-b5ab-1245155090f4",
   "metadata": {},
   "outputs": [
    {
     "data": {
      "text/plain": [
       "['keshav', 26, 'feb']"
      ]
     },
     "execution_count": 61,
     "metadata": {},
     "output_type": "execute_result"
    }
   ],
   "source": [
    "o[6][0:3]"
   ]
  },
  {
   "cell_type": "raw",
   "id": "69ead15e-e504-44fc-a1e9-eceb6d559cbf",
   "metadata": {},
   "source": [
    "\n",
    "here the list contains again a list but it is a single element of list 'o' and its index is 6 so if we want to find the index within the 6th index we have to give it in the sapearte bracket. Here we want to find 3 elements of 6th index so we starts from 0 and end with 3.\n"
   ]
  },
  {
   "cell_type": "code",
   "execution_count": 63,
   "id": "64d7798d-8b53-4233-a290-6e8728af4104",
   "metadata": {},
   "outputs": [],
   "source": [
    "# solve the same problem using reverse operator"
   ]
  },
  {
   "cell_type": "code",
   "execution_count": 65,
   "id": "030c8786-b302-4897-b176-7a12355bcbfd",
   "metadata": {},
   "outputs": [
    {
     "data": {
      "text/plain": [
       "[56, 23, 85, 45, 12, 452, ['keshav', 26, 'feb', 2001]]"
      ]
     },
     "execution_count": 65,
     "metadata": {},
     "output_type": "execute_result"
    }
   ],
   "source": [
    "o"
   ]
  },
  {
   "cell_type": "code",
   "execution_count": 67,
   "id": "cc7ec2d5-0f91-404c-a06c-594a6d62202a",
   "metadata": {},
   "outputs": [
    {
     "data": {
      "text/plain": [
       "['keshav', 26, 'feb']"
      ]
     },
     "execution_count": 67,
     "metadata": {},
     "output_type": "execute_result"
    }
   ],
   "source": [
    "o[-1][0:3]"
   ]
  },
  {
   "cell_type": "code",
   "execution_count": 69,
   "id": "e2b98637-a3a1-4c83-9314-8f6624abb3fe",
   "metadata": {},
   "outputs": [
    {
     "data": {
      "text/plain": [
       "['keshav', 26, 'feb']"
      ]
     },
     "execution_count": 69,
     "metadata": {},
     "output_type": "execute_result"
    }
   ],
   "source": [
    "o[-1][-4:-1]"
   ]
  },
  {
   "cell_type": "raw",
   "id": "54084208-2475-4908-869b-b24e0d321a8e",
   "metadata": {},
   "source": [
    "\n",
    "Note: remember that in the indexing the last index is always excluded.\n"
   ]
  },
  {
   "cell_type": "code",
   "execution_count": 71,
   "id": "bafe8253-4099-4093-9def-27731362bf24",
   "metadata": {},
   "outputs": [
    {
     "ename": "TypeError",
     "evalue": "'list' object is not callable",
     "output_type": "error",
     "traceback": [
      "\u001b[1;31m---------------------------------------------------------------------------\u001b[0m",
      "\u001b[1;31mTypeError\u001b[0m                                 Traceback (most recent call last)",
      "Cell \u001b[1;32mIn[71], line 1\u001b[0m\n\u001b[1;32m----> 1\u001b[0m o(\u001b[38;5;241m7\u001b[39m)\n",
      "\u001b[1;31mTypeError\u001b[0m: 'list' object is not callable"
     ]
    }
   ],
   "source": [
    "o(7)# it will give the type error because the list elements are not callable."
   ]
  },
  {
   "cell_type": "code",
   "execution_count": 73,
   "id": "c441cd69-1ecd-45c0-87ff-f99622e5353b",
   "metadata": {},
   "outputs": [
    {
     "data": {
      "text/plain": [
       "0"
      ]
     },
     "execution_count": 73,
     "metadata": {},
     "output_type": "execute_result"
    }
   ],
   "source": [
    "o.index(56)"
   ]
  },
  {
   "cell_type": "code",
   "execution_count": 1,
   "id": "87d3c149-0a4e-4b7e-8fb4-6b0441392a7a",
   "metadata": {},
   "outputs": [
    {
     "data": {
      "text/plain": [
       "['ksj', 'dhas', 'shsj', 6, 5, 2]"
      ]
     },
     "execution_count": 1,
     "metadata": {},
     "output_type": "execute_result"
    }
   ],
   "source": [
    "list_a=['ksj','dhas','shsj',6,5,2,]\n",
    "list_a\n"
   ]
  },
  {
   "cell_type": "code",
   "execution_count": 9,
   "id": "d2f27633-c4d0-4733-b90a-13206a683ac9",
   "metadata": {},
   "outputs": [
    {
     "data": {
      "text/plain": [
       "['ksj', 'shsj', 5]"
      ]
     },
     "execution_count": 9,
     "metadata": {},
     "output_type": "execute_result"
    }
   ],
   "source": [
    "list_a[0:5:2]# this gives the list elements starts from index 0 and end with index \n",
    "# 4 with the step 2"
   ]
  },
  {
   "cell_type": "markdown",
   "id": "e3f984a2-5dbe-467e-be42-b6521333f0fe",
   "metadata": {},
   "source": [
    "# Inserting value at specific position"
   ]
  },
  {
   "cell_type": "code",
   "execution_count": 76,
   "id": "20079904-e6ec-4ea4-b755-efdf0546f580",
   "metadata": {},
   "outputs": [
    {
     "data": {
      "text/plain": [
       "[56, 23, 85, 45, 12, 452, ['keshav', 26, 'feb', 2001]]"
      ]
     },
     "execution_count": 76,
     "metadata": {},
     "output_type": "execute_result"
    }
   ],
   "source": [
    "o"
   ]
  },
  {
   "cell_type": "code",
   "execution_count": 78,
   "id": "0de7f801-8a99-4d91-bd28-d9e68499108c",
   "metadata": {},
   "outputs": [],
   "source": [
    "# insert value 84 before the 85 in the given list"
   ]
  },
  {
   "cell_type": "code",
   "execution_count": 80,
   "id": "ebcb5313-a1af-4179-b9c2-693698b5e769",
   "metadata": {},
   "outputs": [
    {
     "data": {
      "text/plain": [
       "[56, 23, 84, 85, 45, 12, 452, ['keshav', 26, 'feb', 2001]]"
      ]
     },
     "execution_count": 80,
     "metadata": {},
     "output_type": "execute_result"
    }
   ],
   "source": [
    "o.insert(2,84)\n",
    "o"
   ]
  },
  {
   "cell_type": "raw",
   "id": "4100c4e8-a663-487e-bc65-30351f677e54",
   "metadata": {},
   "source": [
    "\n",
    "to insert any specific value in any position in the list just give the index where you wnat to\n",
    "add the new element and the element that you want to add to the 'insert' method.\n"
   ]
  },
  {
   "cell_type": "code",
   "execution_count": 82,
   "id": "832fd25d-bcd5-4e80-b670-d30a9125c8bb",
   "metadata": {},
   "outputs": [
    {
     "data": {
      "text/plain": [
       "[56, 23, 84, 85, 45, 12, 452, 'pruthvi', ['keshav', 26, 'feb', 2001]]"
      ]
     },
     "execution_count": 82,
     "metadata": {},
     "output_type": "execute_result"
    }
   ],
   "source": [
    "o.insert([7][0],'pruthvi')\n",
    "o"
   ]
  },
  {
   "cell_type": "raw",
   "id": "28fc7772-ad3d-457e-a6fb-56caf0452d31",
   "metadata": {},
   "source": [
    "\n",
    "here the 'pruthvi' is added at the 7th position but we wnat add it before the 'keshav'\n"
   ]
  },
  {
   "cell_type": "code",
   "execution_count": 86,
   "id": "fc97ea5e-5983-4f87-88f7-22db49fbd2a7",
   "metadata": {},
   "outputs": [
    {
     "data": {
      "text/plain": [
       "[56,\n",
       " 23,\n",
       " 84,\n",
       " 85,\n",
       " 45,\n",
       " 12,\n",
       " 452,\n",
       " 'pruthvi',\n",
       " ['pruthvi', 'keshav', 26, 'feb', 2001]]"
      ]
     },
     "execution_count": 86,
     "metadata": {},
     "output_type": "execute_result"
    }
   ],
   "source": [
    "o[8].insert(0,'pruthvi')\n",
    "o"
   ]
  },
  {
   "cell_type": "raw",
   "id": "572ecb7d-6a7a-4bc2-a720-fa393ae64e3f",
   "metadata": {},
   "source": [
    "\n",
    "so from the above example it is cleared that if you want to add any element or object in the list of list then firt you have to give the index of the list which is the part of another list and then use the insert method.\n"
   ]
  },
  {
   "cell_type": "code",
   "execution_count": 88,
   "id": "f4d4c0a4-9f2c-4c4f-b7d7-e22e3a40ca84",
   "metadata": {},
   "outputs": [],
   "source": [
    "# add pankaj after the keshav in the given list"
   ]
  },
  {
   "cell_type": "code",
   "execution_count": 90,
   "id": "c4d37a3b-5ab1-4044-872a-03eefc0b6043",
   "metadata": {},
   "outputs": [
    {
     "data": {
      "text/plain": [
       "[56,\n",
       " 23,\n",
       " 84,\n",
       " 85,\n",
       " 45,\n",
       " 12,\n",
       " 452,\n",
       " 'pruthvi',\n",
       " ['pruthvi', 'keshav', 26, 'feb', 2001]]"
      ]
     },
     "execution_count": 90,
     "metadata": {},
     "output_type": "execute_result"
    }
   ],
   "source": [
    "o# calling the gievn list"
   ]
  },
  {
   "cell_type": "code",
   "execution_count": 92,
   "id": "fe4a6e71-18b4-4540-b6b3-36aac1108bc3",
   "metadata": {},
   "outputs": [
    {
     "data": {
      "text/plain": [
       "7"
      ]
     },
     "execution_count": 92,
     "metadata": {},
     "output_type": "execute_result"
    }
   ],
   "source": [
    "o.index('pruthvi')# finding the position of the list which is the part of another list"
   ]
  },
  {
   "cell_type": "code",
   "execution_count": 94,
   "id": "3dc6a301-3d30-4013-8966-e407db54053d",
   "metadata": {},
   "outputs": [
    {
     "data": {
      "text/plain": [
       "[56,\n",
       " 23,\n",
       " 84,\n",
       " 85,\n",
       " 45,\n",
       " 12,\n",
       " 452,\n",
       " 'pruthvi',\n",
       " ['pruthvi', 'keshav', 'pankaj', 26, 'feb', 2001]]"
      ]
     },
     "execution_count": 94,
     "metadata": {},
     "output_type": "execute_result"
    }
   ],
   "source": [
    "o[8].insert(2,'pankaj')# inserting the 'pankaj' at the index '2' which is after the 'keshav'.\n",
    "o"
   ]
  },
  {
   "cell_type": "markdown",
   "id": "8a752f5a-cad0-436e-a537-9263e2f740c7",
   "metadata": {},
   "source": [
    "# Removing the elemement or object of list using 'pop' \n",
    "list.pop(index of object that you want to remove). If you give empty brackets then it automatically removes the last element or object."
   ]
  },
  {
   "cell_type": "code",
   "execution_count": 4,
   "id": "a5647540-0d0b-4d3a-97f5-b076050bc64f",
   "metadata": {},
   "outputs": [
    {
     "data": {
      "text/plain": [
       "['keshav', 'mahesh', 'joshi', 26, 'feb', 2001, 2000]"
      ]
     },
     "execution_count": 4,
     "metadata": {},
     "output_type": "execute_result"
    }
   ],
   "source": [
    "list=['keshav','mahesh','joshi',26,'feb',2001,2000]\n",
    "list"
   ]
  },
  {
   "cell_type": "code",
   "execution_count": 6,
   "id": "d7bed500-6740-4d17-b2be-d310d648b13e",
   "metadata": {},
   "outputs": [
    {
     "data": {
      "text/plain": [
       "['keshav', 'mahesh', 'joshi', 26, 'feb', 2001]"
      ]
     },
     "execution_count": 6,
     "metadata": {},
     "output_type": "execute_result"
    }
   ],
   "source": [
    "list.pop()# default pop index is last. i.e even if it is not given the index of last element \n",
    "#in the list it removes the last element if empty brackets are given.\n",
    "list"
   ]
  },
  {
   "cell_type": "code",
   "execution_count": 8,
   "id": "295f81e2-81ca-4791-b53f-84e335a072c7",
   "metadata": {},
   "outputs": [
    {
     "data": {
      "text/plain": [
       "'joshi'"
      ]
     },
     "execution_count": 8,
     "metadata": {},
     "output_type": "execute_result"
    }
   ],
   "source": [
    "list.pop(2)# the element having index 2 is get removed."
   ]
  },
  {
   "cell_type": "code",
   "execution_count": 10,
   "id": "53e26e00-775b-480d-949d-b34e9a16adc0",
   "metadata": {},
   "outputs": [
    {
     "data": {
      "text/plain": [
       "['keshav', 'mahesh', 26, 'feb', 2001]"
      ]
     },
     "execution_count": 10,
     "metadata": {},
     "output_type": "execute_result"
    }
   ],
   "source": [
    "list"
   ]
  },
  {
   "cell_type": "code",
   "execution_count": 12,
   "id": "d34a4a63-213e-4721-b741-64163487cadf",
   "metadata": {},
   "outputs": [
    {
     "ename": "TypeError",
     "evalue": "'str' object cannot be interpreted as an integer",
     "output_type": "error",
     "traceback": [
      "\u001b[1;31m---------------------------------------------------------------------------\u001b[0m",
      "\u001b[1;31mTypeError\u001b[0m                                 Traceback (most recent call last)",
      "Cell \u001b[1;32mIn[12], line 1\u001b[0m\n\u001b[1;32m----> 1\u001b[0m \u001b[38;5;28mlist\u001b[39m\u001b[38;5;241m.\u001b[39mpop(\u001b[38;5;124m'\u001b[39m\u001b[38;5;124mkeshav\u001b[39m\u001b[38;5;124m'\u001b[39m)\n",
      "\u001b[1;31mTypeError\u001b[0m: 'str' object cannot be interpreted as an integer"
     ]
    }
   ],
   "source": [
    "list.pop('keshav')# pop method works on indexing if you don't know the index of the element \n",
    "# that you want to remove then you can't use the 'pop'. It gives type error."
   ]
  },
  {
   "cell_type": "code",
   "execution_count": 38,
   "id": "dea2adc8-8ab7-474d-a4b8-91cd8680850f",
   "metadata": {},
   "outputs": [
    {
     "ename": "IndexError",
     "evalue": "pop index out of range",
     "output_type": "error",
     "traceback": [
      "\u001b[1;31m---------------------------------------------------------------------------\u001b[0m",
      "\u001b[1;31mIndexError\u001b[0m                                Traceback (most recent call last)",
      "Cell \u001b[1;32mIn[38], line 1\u001b[0m\n\u001b[1;32m----> 1\u001b[0m \u001b[38;5;28mlist\u001b[39m\u001b[38;5;241m.\u001b[39mpop(\u001b[38;5;241m100\u001b[39m)\u001b[38;5;66;03m# if the index which is not in the list is given then it gives the 'index error'\u001b[39;00m\n\u001b[0;32m      2\u001b[0m \u001b[38;5;66;03m# which tells us that the index is out of range.\u001b[39;00m\n\u001b[0;32m      3\u001b[0m \u001b[38;5;28mlist\u001b[39m\n",
      "\u001b[1;31mIndexError\u001b[0m: pop index out of range"
     ]
    }
   ],
   "source": [
    "list.pop(100)# if the index which is not in the list is given then it gives the 'index error'\n",
    "# which tells us that the index is out of range.\n",
    "list"
   ]
  },
  {
   "cell_type": "markdown",
   "id": "70539ae2-2257-4b8c-9fc0-0535b8260170",
   "metadata": {},
   "source": [
    "# Using 'Remove'\n",
    "list.remove(object of list) this is the general representation of remove method.\n",
    "It does not works on the indexing. i.e if you want to remove object in the list then you must have to know the object. Lets see with an example."
   ]
  },
  {
   "cell_type": "code",
   "execution_count": 19,
   "id": "1460eed0-0981-4291-a6bd-b6152d106659",
   "metadata": {},
   "outputs": [
    {
     "data": {
      "text/plain": [
       "['abcd', 'cdef', 'fghi', 'ijkl', 'lmno', 'opqr', 'rstu', 'uvwx', 'xyz']"
      ]
     },
     "execution_count": 19,
     "metadata": {},
     "output_type": "execute_result"
    }
   ],
   "source": [
    "list_26=['abcd','cdef','fghi','ijkl','lmno','opqr','rstu','uvwx','xyz']\n",
    "list_26"
   ]
  },
  {
   "cell_type": "code",
   "execution_count": 23,
   "id": "c0e7f3bf-ce43-4b7e-8350-671c0f93912a",
   "metadata": {},
   "outputs": [
    {
     "ename": "TypeError",
     "evalue": "list.remove() takes exactly one argument (0 given)",
     "output_type": "error",
     "traceback": [
      "\u001b[1;31m---------------------------------------------------------------------------\u001b[0m",
      "\u001b[1;31mTypeError\u001b[0m                                 Traceback (most recent call last)",
      "Cell \u001b[1;32mIn[23], line 1\u001b[0m\n\u001b[1;32m----> 1\u001b[0m list_26\u001b[38;5;241m.\u001b[39mremove()\n",
      "\u001b[1;31mTypeError\u001b[0m: list.remove() takes exactly one argument (0 given)"
     ]
    }
   ],
   "source": [
    "list_26.remove() # here empty brackets are not allowesd because 'remove' needs the exact object \n",
    "# in the list that you want to remove. So the code gievs the type error."
   ]
  },
  {
   "cell_type": "code",
   "execution_count": 25,
   "id": "4f99ae98-d4dd-4a9f-86c7-46f1ffa1dc96",
   "metadata": {},
   "outputs": [],
   "source": [
    "list_26.remove('abcd') # removes 'abcd' from the list."
   ]
  },
  {
   "cell_type": "code",
   "execution_count": 27,
   "id": "d5bd30c4-02f5-4d1a-abf4-bb0ca41d799c",
   "metadata": {},
   "outputs": [
    {
     "data": {
      "text/plain": [
       "['cdef', 'fghi', 'ijkl', 'lmno', 'opqr', 'rstu', 'uvwx', 'xyz']"
      ]
     },
     "execution_count": 27,
     "metadata": {},
     "output_type": "execute_result"
    }
   ],
   "source": [
    "list_26"
   ]
  },
  {
   "cell_type": "code",
   "execution_count": 29,
   "id": "55195c7d-89ec-4193-aedd-a03d343b9a87",
   "metadata": {},
   "outputs": [],
   "source": [
    "list_26.remove('fghi')"
   ]
  },
  {
   "cell_type": "code",
   "execution_count": 31,
   "id": "346d543f-60c6-4fbc-ab83-f12c82f2356f",
   "metadata": {},
   "outputs": [
    {
     "data": {
      "text/plain": [
       "['cdef', 'ijkl', 'lmno', 'opqr', 'rstu', 'uvwx', 'xyz']"
      ]
     },
     "execution_count": 31,
     "metadata": {},
     "output_type": "execute_result"
    }
   ],
   "source": [
    "list_26"
   ]
  },
  {
   "cell_type": "code",
   "execution_count": 40,
   "id": "cfd7fd33-7056-4561-926f-9ff8f3571d1f",
   "metadata": {},
   "outputs": [
    {
     "ename": "ValueError",
     "evalue": "list.remove(x): x not in list",
     "output_type": "error",
     "traceback": [
      "\u001b[1;31m---------------------------------------------------------------------------\u001b[0m",
      "\u001b[1;31mValueError\u001b[0m                                Traceback (most recent call last)",
      "Cell \u001b[1;32mIn[40], line 1\u001b[0m\n\u001b[1;32m----> 1\u001b[0m list_26\u001b[38;5;241m.\u001b[39mremove(\u001b[38;5;124m'\u001b[39m\u001b[38;5;124mklmg\u001b[39m\u001b[38;5;124m'\u001b[39m)\n",
      "\u001b[1;31mValueError\u001b[0m: list.remove(x): x not in list"
     ]
    }
   ],
   "source": [
    "list_26.remove('klmg') # if the object which is not in the list is given then it gives the \n",
    "# 'value error' that menas the value is not in the list."
   ]
  },
  {
   "cell_type": "markdown",
   "id": "3bb34641-3a83-4629-8f96-23a396426325",
   "metadata": {},
   "source": [
    "# reversing the list"
   ]
  },
  {
   "cell_type": "code",
   "execution_count": 43,
   "id": "98db147a-e689-4a08-9f8d-d389bfccf175",
   "metadata": {},
   "outputs": [
    {
     "data": {
      "text/plain": [
       "['ks', 'ew', 'se', 'he', 'at', 'vy']"
      ]
     },
     "execution_count": 43,
     "metadata": {},
     "output_type": "execute_result"
    }
   ],
   "source": [
    "list_11=['ks','ew','se','he','at','vy']\n",
    "list_11"
   ]
  },
  {
   "cell_type": "code",
   "execution_count": 53,
   "id": "d4edc020-0c3d-4696-8636-77fd009cd3bb",
   "metadata": {},
   "outputs": [],
   "source": [
    "list_11.reverse()# reverse the objects of the list."
   ]
  },
  {
   "cell_type": "code",
   "execution_count": 55,
   "id": "73f0290c-ecba-4267-85af-5c28cfee44dc",
   "metadata": {},
   "outputs": [
    {
     "data": {
      "text/plain": [
       "['vy', 'at', 'he', 'se', 'ew', 'ks']"
      ]
     },
     "execution_count": 55,
     "metadata": {},
     "output_type": "execute_result"
    }
   ],
   "source": [
    "list_11"
   ]
  },
  {
   "cell_type": "code",
   "execution_count": 57,
   "id": "70f7d21a-2437-4ded-b279-4fe7264cf663",
   "metadata": {},
   "outputs": [
    {
     "ename": "TypeError",
     "evalue": "list.reverse() takes no arguments (1 given)",
     "output_type": "error",
     "traceback": [
      "\u001b[1;31m---------------------------------------------------------------------------\u001b[0m",
      "\u001b[1;31mTypeError\u001b[0m                                 Traceback (most recent call last)",
      "Cell \u001b[1;32mIn[57], line 1\u001b[0m\n\u001b[1;32m----> 1\u001b[0m list_11\u001b[38;5;241m.\u001b[39mreverse(\u001b[38;5;241m4\u001b[39m)\n",
      "\u001b[1;31mTypeError\u001b[0m: list.reverse() takes no arguments (1 given)"
     ]
    }
   ],
   "source": [
    "list_11.reverse(4) # reverse() is a non argument method that means it does not need any\n",
    "# argument if you give it then it will shows the 'type error'."
   ]
  },
  {
   "cell_type": "markdown",
   "id": "a2438777-6ac7-4caf-ba0f-9faf75ad7e6d",
   "metadata": {},
   "source": [
    "# Count the number of occurences of items in the list\n",
    "list.count('element or item of string'). It gives how many times the item of the given list is repeated."
   ]
  },
  {
   "cell_type": "code",
   "execution_count": 2,
   "id": "0bd59cc7-59a2-4fd9-bc6d-982d51e44c1b",
   "metadata": {},
   "outputs": [
    {
     "data": {
      "text/plain": [
       "['one', 'two', 'three', 'four', 'five', 'six', 'seven', 'eight', 'nine', 'ten']"
      ]
     },
     "execution_count": 2,
     "metadata": {},
     "output_type": "execute_result"
    }
   ],
   "source": [
    "list_10=['one','two','three','four','five','six','seven','eight','nine','ten']\n",
    "list_10"
   ]
  },
  {
   "cell_type": "code",
   "execution_count": 4,
   "id": "91f09bbd-f36e-4d7f-9bff-0f6bca14b7bd",
   "metadata": {},
   "outputs": [
    {
     "data": {
      "text/plain": [
       "1"
      ]
     },
     "execution_count": 4,
     "metadata": {},
     "output_type": "execute_result"
    }
   ],
   "source": [
    "list_10.count('one')"
   ]
  },
  {
   "cell_type": "code",
   "execution_count": 6,
   "id": "64705dce-a0fd-4b6e-8e95-abe29dbf9452",
   "metadata": {},
   "outputs": [
    {
     "data": {
      "text/plain": [
       "['one',\n",
       " 'one',\n",
       " 'two',\n",
       " 'three',\n",
       " 'four',\n",
       " 'five',\n",
       " 'six',\n",
       " 'seven',\n",
       " 'eight',\n",
       " 'nine',\n",
       " 'ten']"
      ]
     },
     "execution_count": 6,
     "metadata": {},
     "output_type": "execute_result"
    }
   ],
   "source": [
    "list_10.insert(0,'one')\n",
    "list_10"
   ]
  },
  {
   "cell_type": "code",
   "execution_count": 8,
   "id": "b62eb65e-3802-468f-a4d4-fc0a181b5b18",
   "metadata": {},
   "outputs": [
    {
     "data": {
      "text/plain": [
       "2"
      ]
     },
     "execution_count": 8,
     "metadata": {},
     "output_type": "execute_result"
    }
   ],
   "source": [
    "list_10.count('one')"
   ]
  },
  {
   "cell_type": "code",
   "execution_count": 10,
   "id": "0f163743-48f6-440b-a05a-1534d28f9f7b",
   "metadata": {},
   "outputs": [],
   "source": [
    "list_10.insert(2,'one')"
   ]
  },
  {
   "cell_type": "code",
   "execution_count": 12,
   "id": "20ea7956-a1a3-45e5-b741-59fcaa78fb58",
   "metadata": {},
   "outputs": [
    {
     "data": {
      "text/plain": [
       "3"
      ]
     },
     "execution_count": 12,
     "metadata": {},
     "output_type": "execute_result"
    }
   ],
   "source": [
    "list_10.count('one')"
   ]
  },
  {
   "cell_type": "code",
   "execution_count": 14,
   "id": "19fab56c-9828-4e99-9fe7-2603f837e174",
   "metadata": {},
   "outputs": [
    {
     "ename": "TypeError",
     "evalue": "insert expected 2 arguments, got 3",
     "output_type": "error",
     "traceback": [
      "\u001b[1;31m---------------------------------------------------------------------------\u001b[0m",
      "\u001b[1;31mTypeError\u001b[0m                                 Traceback (most recent call last)",
      "Cell \u001b[1;32mIn[14], line 1\u001b[0m\n\u001b[1;32m----> 1\u001b[0m list_10\u001b[38;5;241m.\u001b[39minsert(\u001b[38;5;241m0\u001b[39m,\u001b[38;5;124m'\u001b[39m\u001b[38;5;124mkeshav\u001b[39m\u001b[38;5;124m'\u001b[39m,\u001b[38;5;241m4\u001b[39m)\n",
      "\u001b[1;31mTypeError\u001b[0m: insert expected 2 arguments, got 3"
     ]
    }
   ],
   "source": [
    "list_10.insert(0,'keshav',4)# i want to add 'keshav' at 0th index but insert supports oly two arguments.\n",
    "# to add 'keshav' 4 times at 0th place we can use loops."
   ]
  },
  {
   "cell_type": "markdown",
   "id": "a3429ba8-63de-44bd-91ca-046d8bfdbd54",
   "metadata": {},
   "source": [
    "# Sort\n",
    "list.sort(). It will sort the list and the default order is accending.  "
   ]
  },
  {
   "cell_type": "code",
   "execution_count": 17,
   "id": "716aeaed-0976-448a-97a1-e438e4446b87",
   "metadata": {},
   "outputs": [
    {
     "data": {
      "text/plain": [
       "[52, 56, 78, 57, 79, 51, 89, 100]"
      ]
     },
     "execution_count": 17,
     "metadata": {},
     "output_type": "execute_result"
    }
   ],
   "source": [
    "list=[52,56,78,57,79,51,89,100]\n",
    "list"
   ]
  },
  {
   "cell_type": "code",
   "execution_count": 19,
   "id": "fbac6710-242f-4ac2-a8f4-4a6527ff3a07",
   "metadata": {},
   "outputs": [],
   "source": [
    "list.sort()"
   ]
  },
  {
   "cell_type": "code",
   "execution_count": 21,
   "id": "ac4d9602-24db-49c1-97bd-e65736fa525d",
   "metadata": {},
   "outputs": [
    {
     "data": {
      "text/plain": [
       "[51, 52, 56, 57, 78, 79, 89, 100]"
      ]
     },
     "execution_count": 21,
     "metadata": {},
     "output_type": "execute_result"
    }
   ],
   "source": [
    "list"
   ]
  },
  {
   "cell_type": "code",
   "execution_count": 23,
   "id": "97326819-14fd-45f5-9158-a532adf2b963",
   "metadata": {},
   "outputs": [
    {
     "ename": "TypeError",
     "evalue": "'<' not supported between instances of 'int' and 'str'",
     "output_type": "error",
     "traceback": [
      "\u001b[1;31m---------------------------------------------------------------------------\u001b[0m",
      "\u001b[1;31mTypeError\u001b[0m                                 Traceback (most recent call last)",
      "Cell \u001b[1;32mIn[23], line 2\u001b[0m\n\u001b[0;32m      1\u001b[0m list_1\u001b[38;5;241m=\u001b[39m[\u001b[38;5;124m'\u001b[39m\u001b[38;5;124mkeshav\u001b[39m\u001b[38;5;124m'\u001b[39m,\u001b[38;5;124m'\u001b[39m\u001b[38;5;124mabcd\u001b[39m\u001b[38;5;124m'\u001b[39m,\u001b[38;5;124m'\u001b[39m\u001b[38;5;124mtrhrqh\u001b[39m\u001b[38;5;124m'\u001b[39m,\u001b[38;5;124m'\u001b[39m\u001b[38;5;124mjoshi\u001b[39m\u001b[38;5;124m'\u001b[39m,\u001b[38;5;241m26\u001b[39m,\u001b[38;5;241m44\u001b[39m,\u001b[38;5;241m59\u001b[39m,\u001b[38;5;241m1\u001b[39m]\n\u001b[1;32m----> 2\u001b[0m list_1\u001b[38;5;241m.\u001b[39msort()\n\u001b[0;32m      3\u001b[0m list_1\n",
      "\u001b[1;31mTypeError\u001b[0m: '<' not supported between instances of 'int' and 'str'"
     ]
    }
   ],
   "source": [
    "list_1=['keshav','abcd','trhrqh','joshi',26,44,59,1]# sorting works only for similar data types.\n",
    "list_1.sort()\n",
    "list_1"
   ]
  },
  {
   "cell_type": "code",
   "execution_count": 25,
   "id": "03617f58-d730-404b-a3d9-0e16f097c0de",
   "metadata": {},
   "outputs": [
    {
     "data": {
      "text/plain": [
       "['abcd', 'joshi', 'keshav', 'trhrqh']"
      ]
     },
     "execution_count": 25,
     "metadata": {},
     "output_type": "execute_result"
    }
   ],
   "source": [
    "list_1=['keshav','abcd','trhrqh','joshi']\n",
    "list_1.sort()\n",
    "list_1\n"
   ]
  },
  {
   "cell_type": "code",
   "execution_count": 27,
   "id": "9d9b23b4-618d-4c6b-bed9-006bb680390e",
   "metadata": {},
   "outputs": [
    {
     "data": {
      "text/plain": [
       "['1', '26', '44', '59', 'abcd', 'joshi', 'keshav', 'trhrqh']"
      ]
     },
     "execution_count": 27,
     "metadata": {},
     "output_type": "execute_result"
    }
   ],
   "source": [
    "list_1=['keshav','abcd','trhrqh','joshi','26','44','59','1']# here all entries are string \n",
    "# thefore sorting works on it.\n",
    "list_1.sort()\n",
    "list_1"
   ]
  },
  {
   "cell_type": "markdown",
   "id": "799b4031-c9cb-44f7-b802-a8e01703f1a0",
   "metadata": {},
   "source": [
    "# Clear and delete the existing list\n",
    "# list.clear() removes the all elements of list.\n",
    "# list.del() deletes the exising list."
   ]
  },
  {
   "cell_type": "code",
   "execution_count": 31,
   "id": "1792d15c-be42-4a06-a4d6-7e26ec19c4a6",
   "metadata": {},
   "outputs": [
    {
     "data": {
      "text/plain": [
       "['1', '26', '44', '59', 'abcd', 'joshi', 'keshav', 'trhrqh']"
      ]
     },
     "execution_count": 31,
     "metadata": {},
     "output_type": "execute_result"
    }
   ],
   "source": [
    "list_1"
   ]
  },
  {
   "cell_type": "code",
   "execution_count": 33,
   "id": "40fa77d3-7fda-4f26-832a-ed520efdd6f9",
   "metadata": {},
   "outputs": [],
   "source": [
    "list_1.clear()"
   ]
  },
  {
   "cell_type": "code",
   "execution_count": 35,
   "id": "a97186b9-62ea-4b4a-a38f-5efcab7c3be6",
   "metadata": {},
   "outputs": [
    {
     "data": {
      "text/plain": [
       "[]"
      ]
     },
     "execution_count": 35,
     "metadata": {},
     "output_type": "execute_result"
    }
   ],
   "source": [
    "list_1"
   ]
  },
  {
   "cell_type": "code",
   "execution_count": 39,
   "id": "21fbf07d-e102-4068-a3b8-25467c10a87f",
   "metadata": {},
   "outputs": [],
   "source": [
    "del list_1"
   ]
  },
  {
   "cell_type": "code",
   "execution_count": 41,
   "id": "16fe8ee6-37fc-42fb-9c22-6f3585ebe073",
   "metadata": {},
   "outputs": [
    {
     "ename": "NameError",
     "evalue": "name 'list_1' is not defined",
     "output_type": "error",
     "traceback": [
      "\u001b[1;31m---------------------------------------------------------------------------\u001b[0m",
      "\u001b[1;31mNameError\u001b[0m                                 Traceback (most recent call last)",
      "Cell \u001b[1;32mIn[41], line 1\u001b[0m\n\u001b[1;32m----> 1\u001b[0m list_1\n",
      "\u001b[1;31mNameError\u001b[0m: name 'list_1' is not defined"
     ]
    }
   ],
   "source": [
    "list_1"
   ]
  },
  {
   "cell_type": "code",
   "execution_count": null,
   "id": "d882ee5d-f7b8-4173-910b-51e0704ff097",
   "metadata": {},
   "outputs": [],
   "source": []
  }
 ],
 "metadata": {
  "kernelspec": {
   "display_name": "Python 3 (ipykernel)",
   "language": "python",
   "name": "python3"
  },
  "language_info": {
   "codemirror_mode": {
    "name": "ipython",
    "version": 3
   },
   "file_extension": ".py",
   "mimetype": "text/x-python",
   "name": "python",
   "nbconvert_exporter": "python",
   "pygments_lexer": "ipython3",
   "version": "3.12.4"
  }
 },
 "nbformat": 4,
 "nbformat_minor": 5
}
